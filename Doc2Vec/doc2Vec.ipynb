{
  "nbformat": 4,
  "nbformat_minor": 0,
  "metadata": {
    "colab": {
      "name": "doc2Vec.ipynb",
      "provenance": []
    },
    "kernelspec": {
      "name": "python3",
      "display_name": "Python 3"
    },
    "accelerator": "GPU"
  },
  "cells": [
    {
      "cell_type": "code",
      "metadata": {
        "id": "EIpy_5_XBi23",
        "colab_type": "code",
        "colab": {
          "base_uri": "https://localhost:8080/",
          "height": 70
        },
        "outputId": "6d289135-c94f-4257-e996-2c5633de249d"
      },
      "source": [
        "# nltk.download('punkt')"
      ],
      "execution_count": 17,
      "outputs": [
        {
          "output_type": "stream",
          "text": [
            "[nltk_data] Downloading package punkt to /root/nltk_data...\n",
            "[nltk_data]   Unzipping tokenizers/punkt.zip.\n"
          ],
          "name": "stdout"
        },
        {
          "output_type": "execute_result",
          "data": {
            "text/plain": [
              "True"
            ]
          },
          "metadata": {
            "tags": []
          },
          "execution_count": 17
        }
      ]
    },
    {
      "cell_type": "code",
      "metadata": {
        "id": "UskbWYq8xYX2",
        "colab_type": "code",
        "colab": {}
      },
      "source": [
        "from gensim.models.doc2vec import Doc2Vec, TaggedDocument\n",
        "from nltk.tokenize import word_tokenize\n",
        "import nltk"
      ],
      "execution_count": 0,
      "outputs": []
    },
    {
      "cell_type": "code",
      "metadata": {
        "id": "e0R_fY65x-mz",
        "colab_type": "code",
        "colab": {}
      },
      "source": [
        "data = [\"I love machine learning. Its awesome.\",\n",
        "        \"I love coding in python\",\n",
        "        \"I love building chatbots\",\n",
        "        \"they chat amagingly well\"]"
      ],
      "execution_count": 0,
      "outputs": []
    },
    {
      "cell_type": "code",
      "metadata": {
        "id": "sYX-IbzVAqXw",
        "colab_type": "code",
        "colab": {
          "base_uri": "https://localhost:8080/",
          "height": 107
        },
        "outputId": "5945edc4-d08e-4fbb-8394-22f082e8b342"
      },
      "source": [
        "tagged_data = [TaggedDocument(words=word_tokenize(_d.lower()), tags=\n",
        "                              [str(i)]) for i, _d in enumerate(data)]\n",
        "tagged_data"
      ],
      "execution_count": 23,
      "outputs": [
        {
          "output_type": "execute_result",
          "data": {
            "text/plain": [
              "[TaggedDocument(words=['i', 'love', 'machine', 'learning', '.', 'its', 'awesome', '.'], tags=['0']),\n",
              " TaggedDocument(words=['i', 'love', 'coding', 'in', 'python'], tags=['1']),\n",
              " TaggedDocument(words=['i', 'love', 'building', 'chatbots'], tags=['2']),\n",
              " TaggedDocument(words=['they', 'chat', 'amagingly', 'well'], tags=['3'])]"
            ]
          },
          "metadata": {
            "tags": []
          },
          "execution_count": 23
        }
      ]
    },
    {
      "cell_type": "code",
      "metadata": {
        "id": "PxBBfwHLB73D",
        "colab_type": "code",
        "colab": {
          "base_uri": "https://localhost:8080/",
          "height": 72
        },
        "outputId": "3737ade6-63c7-4b33-9d70-e5d990482728"
      },
      "source": [
        "max_epochs = 100\n",
        "vec_size = 20\n",
        "alpha = 0.025\n",
        "\n",
        "model = Doc2Vec(size=vec_size,\n",
        "                alpha=alpha,\n",
        "                min_alpha=0.00025,\n",
        "                min_count=1,\n",
        "                dm = 1)\n",
        "\n",
        "model.build_vocab(tagged_data)"
      ],
      "execution_count": 27,
      "outputs": [
        {
          "output_type": "stream",
          "text": [
            "/usr/local/lib/python3.6/dist-packages/gensim/models/doc2vec.py:570: UserWarning: The parameter `size` is deprecated, will be removed in 4.0.0, use `vector_size` instead.\n",
            "  warnings.warn(\"The parameter `size` is deprecated, will be removed in 4.0.0, use `vector_size` instead.\")\n"
          ],
          "name": "stderr"
        }
      ]
    },
    {
      "cell_type": "code",
      "metadata": {
        "id": "V_J8V5wnCNSp",
        "colab_type": "code",
        "colab": {
          "base_uri": "https://localhost:8080/",
          "height": 1000
        },
        "collapsed": true,
        "outputId": "b8556ded-5948-4978-cb79-c15f5771c816"
      },
      "source": [
        "for epoch in range(max_epochs):\n",
        "  print('iteration {0}'.format(epoch))\n",
        "  model.train(tagged_data,\n",
        "              total_examples=model.corpus_count,\n",
        "              epochs=model.iter)\n",
        "  \n",
        "  # decrease the learning rate\n",
        "  model.alpha -= 0.0002\n",
        "  # fix the learning rate, no decay\n",
        "  model.min_alpha = model.alpha\n",
        "\n",
        "  model.save(\"d2v.model\")\n",
        "  print(\"Model Saved\")"
      ],
      "execution_count": 30,
      "outputs": [
        {
          "output_type": "stream",
          "text": [
            "iteration 0\n",
            "Model Saved\n",
            "iteration 1\n",
            "Model Saved\n",
            "iteration 2\n",
            "Model Saved\n",
            "iteration 3\n",
            "Model Saved\n",
            "iteration 4\n",
            "Model Saved\n",
            "iteration 5\n",
            "Model Saved\n",
            "iteration 6\n",
            "Model Saved\n",
            "iteration 7\n",
            "Model Saved\n",
            "iteration 8\n",
            "Model Saved\n",
            "iteration 9\n",
            "Model Saved\n",
            "iteration 10\n",
            "Model Saved\n",
            "iteration 11\n",
            "Model Saved\n",
            "iteration 12\n",
            "Model Saved\n",
            "iteration 13\n",
            "Model Saved\n",
            "iteration 14\n",
            "Model Saved\n",
            "iteration 15\n"
          ],
          "name": "stdout"
        },
        {
          "output_type": "stream",
          "text": [
            "/usr/local/lib/python3.6/dist-packages/ipykernel_launcher.py:5: DeprecationWarning: Call to deprecated `iter` (Attribute will be removed in 4.0.0, use self.epochs instead).\n",
            "  \"\"\"\n",
            "/usr/local/lib/python3.6/dist-packages/smart_open/smart_open_lib.py:398: UserWarning: This function is deprecated, use smart_open.open instead. See the migration notes for details: https://github.com/RaRe-Technologies/smart_open/blob/master/README.rst#migrating-to-the-new-open-function\n",
            "  'See the migration notes for details: %s' % _MIGRATION_NOTES_URL\n"
          ],
          "name": "stderr"
        },
        {
          "output_type": "stream",
          "text": [
            "Model Saved\n",
            "iteration 16\n",
            "Model Saved\n",
            "iteration 17\n",
            "Model Saved\n",
            "iteration 18\n",
            "Model Saved\n",
            "iteration 19\n",
            "Model Saved\n",
            "iteration 20\n",
            "Model Saved\n",
            "iteration 21\n",
            "Model Saved\n",
            "iteration 22\n",
            "Model Saved\n",
            "iteration 23\n",
            "Model Saved\n",
            "iteration 24\n",
            "Model Saved\n",
            "iteration 25\n",
            "Model Saved\n",
            "iteration 26\n",
            "Model Saved\n",
            "iteration 27\n",
            "Model Saved\n",
            "iteration 28\n",
            "Model Saved\n",
            "iteration 29\n",
            "Model Saved\n",
            "iteration 30\n",
            "Model Saved\n",
            "iteration 31\n",
            "Model Saved\n",
            "iteration 32\n",
            "Model Saved\n",
            "iteration 33\n",
            "Model Saved\n",
            "iteration 34\n",
            "Model Saved\n",
            "iteration 35\n",
            "Model Saved\n",
            "iteration 36\n",
            "Model Saved\n",
            "iteration 37\n",
            "Model Saved\n",
            "iteration 38\n",
            "Model Saved\n",
            "iteration 39\n",
            "Model Saved\n",
            "iteration 40\n",
            "Model Saved\n",
            "iteration 41\n",
            "Model Saved\n",
            "iteration 42\n",
            "Model Saved\n",
            "iteration 43\n",
            "Model Saved\n",
            "iteration 44\n",
            "Model Saved\n",
            "iteration 45\n",
            "Model Saved\n",
            "iteration 46\n",
            "Model Saved\n",
            "iteration 47\n",
            "Model Saved\n",
            "iteration 48\n",
            "Model Saved\n",
            "iteration 49\n",
            "Model Saved\n",
            "iteration 50\n",
            "Model Saved\n",
            "iteration 51\n",
            "Model Saved\n",
            "iteration 52\n",
            "Model Saved\n",
            "iteration 53\n",
            "Model Saved\n",
            "iteration 54\n",
            "Model Saved\n",
            "iteration 55\n",
            "Model Saved\n",
            "iteration 56\n",
            "Model Saved\n",
            "iteration 57\n",
            "Model Saved\n",
            "iteration 58\n",
            "Model Saved\n",
            "iteration 59\n",
            "Model Saved\n",
            "iteration 60\n",
            "Model Saved\n",
            "iteration 61\n",
            "Model Saved\n",
            "iteration 62\n",
            "Model Saved\n",
            "iteration 63\n",
            "Model Saved\n",
            "iteration 64\n",
            "Model Saved\n",
            "iteration 65\n",
            "Model Saved\n",
            "iteration 66\n",
            "Model Saved\n",
            "iteration 67\n",
            "Model Saved\n",
            "iteration 68\n",
            "Model Saved\n",
            "iteration 69\n",
            "Model Saved\n",
            "iteration 70\n",
            "Model Saved\n",
            "iteration 71\n",
            "Model Saved\n",
            "iteration 72\n",
            "Model Saved\n",
            "iteration 73\n",
            "Model Saved\n",
            "iteration 74\n",
            "Model Saved\n",
            "iteration 75\n",
            "Model Saved\n",
            "iteration 76\n",
            "Model Saved\n",
            "iteration 77\n",
            "Model Saved\n",
            "iteration 78\n",
            "Model Saved\n",
            "iteration 79\n",
            "Model Saved\n",
            "iteration 80\n",
            "Model Saved\n",
            "iteration 81\n",
            "Model Saved\n",
            "iteration 82\n",
            "Model Saved\n",
            "iteration 83\n",
            "Model Saved\n",
            "iteration 84\n",
            "Model Saved\n",
            "iteration 85\n",
            "Model Saved\n",
            "iteration 86\n",
            "Model Saved\n",
            "iteration 87\n",
            "Model Saved\n",
            "iteration 88\n",
            "Model Saved\n",
            "iteration 89\n",
            "Model Saved\n",
            "iteration 90\n",
            "Model Saved\n",
            "iteration 91\n",
            "Model Saved\n",
            "iteration 92\n",
            "Model Saved\n",
            "iteration 93\n",
            "Model Saved\n",
            "iteration 94\n",
            "Model Saved\n",
            "iteration 95\n",
            "Model Saved\n",
            "iteration 96\n",
            "Model Saved\n",
            "iteration 97\n",
            "Model Saved\n",
            "iteration 98\n",
            "Model Saved\n",
            "iteration 99\n",
            "Model Saved\n"
          ],
          "name": "stdout"
        }
      ]
    },
    {
      "cell_type": "code",
      "metadata": {
        "id": "MwgcnSMDC20e",
        "colab_type": "code",
        "colab": {
          "base_uri": "https://localhost:8080/",
          "height": 266
        },
        "outputId": "67797013-a99f-4165-bf2f-c2a24aaf5a83"
      },
      "source": [
        "from gensim.models.doc2vec import Doc2Vec\n",
        "model = Doc2Vec.load(\"d2v.model\")\n",
        "\n",
        "#to find the vector of a document which is not in training data\n",
        "\n",
        "test_data = word_tokenize(\"I love chatbots\".lower())\n",
        "v1 = model.infer_vector(test_data)\n",
        "print(\"V1_infer\", v1)\n",
        "\n",
        "#to find most similar doc using tags\n",
        "similar_doc = model.docvecs.most_similar('1')\n",
        "print(similar_doc)\n",
        "\n",
        "# to find vector of doc in training data using tags or in other\n",
        "# words, printing the vector of documnet at index 1 in training data\n",
        "print(model.docvecs['1'])"
      ],
      "execution_count": 36,
      "outputs": [
        {
          "output_type": "stream",
          "text": [
            "V1_infer [-0.01601701 -0.00856532 -0.00329373 -0.01629985 -0.02660711 -0.0203461\n",
            "  0.00355794  0.01152274  0.02287239  0.00189931 -0.01375926  0.00914005\n",
            "  0.02571929 -0.01080485  0.01799943 -0.00274431  0.01758589  0.00759036\n",
            "  0.01528127  0.01967318]\n",
            "[('0', 0.9455717206001282), ('2', 0.9134296178817749), ('3', 0.9021388292312622)]\n",
            "[ 0.02684102 -0.07651086  0.01809535 -0.02627846  0.03473094  0.00616595\n",
            "  0.09847442  0.07506387 -0.02944852 -0.1109452   0.03320427 -0.09217766\n",
            " -0.07400116  0.1277173  -0.01720818  0.03413173 -0.003457   -0.04633334\n",
            " -0.03986403  0.02184675]\n"
          ],
          "name": "stdout"
        },
        {
          "output_type": "stream",
          "text": [
            "/usr/local/lib/python3.6/dist-packages/smart_open/smart_open_lib.py:398: UserWarning: This function is deprecated, use smart_open.open instead. See the migration notes for details: https://github.com/RaRe-Technologies/smart_open/blob/master/README.rst#migrating-to-the-new-open-function\n",
            "  'See the migration notes for details: %s' % _MIGRATION_NOTES_URL\n",
            "/usr/local/lib/python3.6/dist-packages/gensim/matutils.py:737: FutureWarning: Conversion of the second argument of issubdtype from `int` to `np.signedinteger` is deprecated. In future, it will be treated as `np.int64 == np.dtype(int).type`.\n",
            "  if np.issubdtype(vec.dtype, np.int):\n"
          ],
          "name": "stderr"
        }
      ]
    },
    {
      "cell_type": "code",
      "metadata": {
        "id": "ivR9Tk0WCu73",
        "colab_type": "code",
        "colab": {
          "base_uri": "https://localhost:8080/",
          "height": 34
        },
        "outputId": "2bf0f6b5-cb5d-4a38-e7fe-5128481e8896"
      },
      "source": [
        "print(similar_doc)"
      ],
      "execution_count": 39,
      "outputs": [
        {
          "output_type": "stream",
          "text": [
            "[('0', 0.9455717206001282), ('2', 0.9134296178817749), ('3', 0.9021388292312622)]\n"
          ],
          "name": "stdout"
        }
      ]
    },
    {
      "cell_type": "code",
      "metadata": {
        "id": "P7MGE3QMEWiF",
        "colab_type": "code",
        "colab": {}
      },
      "source": [
        ""
      ],
      "execution_count": 0,
      "outputs": []
    }
  ]
}